{
 "cells": [
  {
   "cell_type": "code",
   "execution_count": 8,
   "metadata": {},
   "outputs": [
    {
     "name": "stdout",
     "output_type": "stream",
     "text": [
      "Starting: python model.py --attn_type kernelized --align_fn dot --cuda cuda:0 (Logging to Final_logs/kernelized_dot.log)\n",
      "Starting: python model.py --attn_type kernelized --align_fn scaled_dot --cuda cuda:1 (Logging to Final_logs/kernelized_scaled_dot.log)\n",
      "Starting: python model.py --attn_type kernelized --align_fn additive --cuda cuda:2 (Logging to Final_logs/kernelized_additive.log)\n",
      "Starting: python model.py --attn_type local --align_fn dot --cuda cuda:3 (Logging to Final_logs/local_dot.log)\n",
      "Starting: python model.py --attn_type local --align_fn scaled_dot --cuda cuda:0 (Logging to Final_logs/local_scaled_dot.log)\n",
      "Starting: python model.py --attn_type local --align_fn additive --cuda cuda:1 (Logging to Final_logs/local_additive.log)\n",
      "Starting: python model.py --attn_type global --align_fn dot --cuda cuda:2 (Logging to Final_logs/global_dot.log)\n",
      "Starting: python model.py --attn_type global --align_fn scaled_dot --cuda cuda:3 (Logging to Final_logs/global_scaled_dot.log)\n",
      "Starting: python model.py --attn_type global --align_fn additive --cuda cuda:0 (Logging to Final_logs/global_additive.log)\n",
      "Starting: python model.py --attn_type multihead --align_fn dot --cuda cuda:1 (Logging to Final_logs/multihead_dot.log)\n",
      "Starting: python model.py --attn_type multihead --align_fn scaled_dot --cuda cuda:2 (Logging to Final_logs/multihead_scaled_dot.log)\n",
      "Starting: python model.py --attn_type multihead --align_fn additive --cuda cuda:3 (Logging to Final_logs/multihead_additive.log)\n",
      "Starting: python model.py --attn_type group_query --align_fn dot --cuda cuda:0 (Logging to Final_logs/group_query_dot.log)\n",
      "Starting: python model.py --attn_type group_query --align_fn scaled_dot --cuda cuda:1 (Logging to Final_logs/group_query_scaled_dot.log)\n",
      "Starting: python model.py --attn_type group_query --align_fn additive --cuda cuda:2 (Logging to Final_logs/group_query_additive.log)\n",
      "Starting: python model.py --attn_type hierarchical --align_fn dot --cuda cuda:3 (Logging to Final_logs/hierarchical_dot.log)\n",
      "Starting: python model.py --attn_type hierarchical --align_fn scaled_dot --cuda cuda:0 (Logging to Final_logs/hierarchical_scaled_dot.log)\n",
      "Starting: python model.py --attn_type hierarchical --align_fn additive --cuda cuda:1 (Logging to Final_logs/hierarchical_additive.log)\n",
      "Starting: python model.py --attn_type adaptive --align_fn dot --cuda cuda:2 (Logging to Final_logs/adaptive_dot.log)\n",
      "Starting: python model.py --attn_type adaptive --align_fn scaled_dot --cuda cuda:3 (Logging to Final_logs/adaptive_scaled_dot.log)\n",
      "Starting: python model.py --attn_type adaptive --align_fn additive --cuda cuda:0 (Logging to Final_logs/adaptive_additive.log)\n",
      "Starting: python model.py --attn_type stochastic --align_fn dot --cuda cuda:1 (Logging to Final_logs/stochastic_dot.log)\n",
      "Starting: python model.py --attn_type stochastic --align_fn scaled_dot --cuda cuda:2 (Logging to Final_logs/stochastic_scaled_dot.log)\n",
      "Starting: python model.py --attn_type stochastic --align_fn additive --cuda cuda:3 (Logging to Final_logs/stochastic_additive.log)\n",
      "All processes started concurrently.\n"
     ]
    }
   ],
   "source": [
    "import os\n",
    "import subprocess\n",
    "\n",
    "# List of attention types\n",
    "attention_types = [\n",
    "    \"kernelized\",   # Kernelized Attention\n",
    "    \"local\",        # Local Attention\n",
    "    \"global\",       # Global Attention\n",
    "    \"multihead\",    # Multihead Attention\n",
    "    \"group_query\",  # Group Query Attention\n",
    "    \"hierarchical\",  # Hierarchical Attention\n",
    "    \"adaptive\",    # Adaptive Attention\n",
    "    \"stochastic\" , # Stochastic Attention\n",
    "]\n",
    "\n",
    "# List of alignment functions\n",
    "alignment_functions = [\n",
    "    \"dot\",          # Dot Product Alignment\n",
    "    \"scaled_dot\",   # Scaled Dot Product Alignment\n",
    "    \"additive\"      # Additive (Bahdanau) Alignment\n",
    "]\n",
    "\n",
    "# GPU index cycling\n",
    "num_gpus = 4\n",
    "os.makedirs(\"Final_logs\", exist_ok=True)  # Ensure logs directory exists\n",
    "\n",
    "processes = []  # To keep track of running processes\n",
    "gpu_idx = 0\n",
    "\n",
    "# Loop through all combinations of attention types and alignment functions\n",
    "for attn_type in attention_types:\n",
    "    for attn_fn in alignment_functions:\n",
    "        log_file = f\"Final_logs/{attn_type}_{attn_fn}.log\"\n",
    "        command = f\"python model.py --attn_type {attn_type} --align_fn {attn_fn} --cuda cuda:{gpu_idx}\"\n",
    "        \n",
    "        print(f\"Starting: {command} (Logging to {log_file})\")\n",
    "        \n",
    "        with open(log_file, \"w\") as log:\n",
    "            process = subprocess.Popen(command.split(), stdout=log, stderr=subprocess.STDOUT)\n",
    "            processes.append(process)\n",
    "        \n",
    "        gpu_idx = (gpu_idx + 1) % num_gpus  # Cycle through available GPUs\n",
    "\n",
    "# Optionally, wait for all processes to complete\n",
    "for process in processes:\n",
    "    process.wait()\n",
    "\n",
    "print(\"All processes started concurrently.\")\n"
   ]
  },
  {
   "cell_type": "code",
   "execution_count": null,
   "metadata": {},
   "outputs": [],
   "source": []
  }
 ],
 "metadata": {
  "kernelspec": {
   "display_name": "base",
   "language": "python",
   "name": "python3"
  },
  "language_info": {
   "codemirror_mode": {
    "name": "ipython",
    "version": 3
   },
   "file_extension": ".py",
   "mimetype": "text/x-python",
   "name": "python",
   "nbconvert_exporter": "python",
   "pygments_lexer": "ipython3",
   "version": "3.12.2"
  }
 },
 "nbformat": 4,
 "nbformat_minor": 2
}
